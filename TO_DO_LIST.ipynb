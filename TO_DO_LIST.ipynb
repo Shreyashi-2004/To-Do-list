{
  "nbformat": 4,
  "nbformat_minor": 0,
  "metadata": {
    "colab": {
      "provenance": []
    },
    "kernelspec": {
      "name": "python3",
      "display_name": "Python 3"
    },
    "language_info": {
      "name": "python"
    }
  },
  "cells": [
    {
      "cell_type": "code",
      "execution_count": null,
      "metadata": {
        "id": "AqmjsfBCfPVG"
      },
      "outputs": [],
      "source": [
        "import json\n",
        "\n",
        "def load_tasks():\n",
        "    try:\n",
        "        with open('data.json', 'r') as f:\n",
        "            tasks = json.load(f)\n",
        "    except FileNotFoundError:\n",
        "        tasks = []\n",
        "    return tasks\n",
        "\n",
        "def save_tasks(tasks):\n",
        "    with open('data.json', 'w') as f:\n",
        "        json.dump(tasks, f)\n",
        "\n",
        "def show_tasks(tasks):\n",
        "    if not tasks:\n",
        "        print(\"Your to-do list is empty!\")\n",
        "    else:\n",
        "        print(\"Your to-do list:\")\n",
        "        for index, task in enumerate(tasks):\n",
        "            status = \"[x]\" if task[\"completed\"] else \"[ ]\"\n",
        "            print(f\"{index+1}. {status} {task['description']}\")\n",
        "\n",
        "def add_task(tasks, description):\n",
        "    new_task = {\n",
        "        \"description\": description,\n",
        "        \"completed\": False\n",
        "    }\n",
        "    tasks.append(new_task)\n",
        "    save_tasks(tasks)\n",
        "    print(f\"Task '{description}' added to your to-do list!\")\n",
        "\n",
        "def mark_completed(tasks, index):\n",
        "    if 0 <= index < len(tasks):\n",
        "        tasks[index][\"completed\"] = True\n",
        "        save_tasks(tasks)\n",
        "        print(f\"Task '{tasks[index]['description']}' marked as completed.\")\n",
        "    else:\n",
        "        print(\"Invalid task index!\")\n",
        "\n",
        "def main():\n",
        "    tasks = load_tasks()\n",
        "\n",
        "    while True:\n",
        "        print(\"\\nOptions:\")\n",
        "        print(\"1. View to-do list\")\n",
        "        print(\"2. Add new task\")\n",
        "        print(\"3. Mark task as completed\")\n",
        "        print(\"4. Exit\")\n",
        "\n",
        "        choice = input(\"Enter your choice: \")\n",
        "\n",
        "        if choice == \"1\":\n",
        "            show_tasks(tasks)  # Call show_tasks to display the to-do list\n",
        "        elif choice == \"2\":\n",
        "            description = input(\"Enter the task description: \")\n",
        "            add_task(tasks, description)\n",
        "        elif choice == \"3\":\n",
        "            index = int(input(\"Enter the task index you want to mark as completed: \")) - 1\n",
        "            mark_completed(tasks, index)\n",
        "        elif choice == \"4\":\n",
        "            print(\"Exiting the to-do list app. Goodbye!\")\n",
        "            break\n",
        "        else:\n",
        "            print(\"Invalid choice. Please try again.\")\n",
        "\n",
        "if __name__ == \"__main__\":\n",
        "    main()\n"
      ]
    }
  ]
}